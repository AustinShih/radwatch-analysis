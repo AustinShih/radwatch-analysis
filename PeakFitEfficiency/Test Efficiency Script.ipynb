{
 "cells": [
  {
   "cell_type": "code",
   "execution_count": null,
   "metadata": {},
   "outputs": [],
   "source": [
    "#Script\n",
    "import becquerel as bq\n",
    "from becquerel import Spectrum\n",
    "import numpy as np\n",
    "import matplotlib.pyplot as plt\n",
    "import scipy.integrate as integrate\n",
    "import math as m\n",
    "\n",
    "def f_near(energy_array,energy): #finds index of closest energy in spectrum to\n",
    "#that of the characteristic energy\n",
    "    idx = np.abs(energy_array - energy).argmin()\n",
    "    return idx\n",
    "\n",
    "def calibration(integrals): #calculate efficiencies\n",
    "    efficiencies = []\n",
    "    for x in range(0,len(source_activities)):\n",
    "        iso = bq.Isotope(source_isotopes[x])\n",
    "        efficiency = integrals[x]/(source_activities[x]*branching_ratio[x])\n",
    "        efficiencies = np.append(efficiencies,efficiency)\n",
    "    return efficiencies\n",
    "\n",
    "def Efficiency(source_isotopes,source_energies,source_activities,spectrum,background,branching_ratio):\n",
    "#input: array of isotopes, energies, and activities, spectrum file name, background\n",
    "#spectrum file name, branching ratio\n",
    "    spec = Spectrum.from_file(spectrum) #import spectrum data\n",
    "    bg = Spectrum.from_file(background) #import spectrum data\n",
    "    spec = spec - bg #background subtraction\n",
    "    spec_energies = spec.energies_kev #all energues\n",
    "    spec_counts =  spec.counts_vals #all counts\n",
    "\n",
    "    #peak fitting and area under curve\n",
    "    integrals = []\n",
    "    for n in source_energies:\n",
    "        fit = bq.core.fitting.FitterGaussErfLine(x=spec.channels, y=spec.cps_vals, y_unc=spec.cps_uncs)\n",
    "        idx = f_near(spec_energies,n)\n",
    "        fit.set_roi(idx-100,idx+100)\n",
    "        fit.fit()\n",
    "        amp = fit.result.params['gauss_amp'].value\n",
    "        mu = fit.result.params['gauss_mu'].value\n",
    "        sigma =fit.result.params['gauss_sigma'].value\n",
    "        def gaussian(x):\n",
    "            return (spec.livetime * amp /(m.sqrt(2*m.pi)*sigma)) * m.exp(- ((x-mu)**2) / (2*sigma**2))\n",
    "        integral = integrate.quad(gaussian, idx-100, idx+100)\n",
    "        integrals = np.append(integrals,integral[0])\n",
    "    #calculate efficiency\n",
    "    efficiencies = calibration(integrals)\n",
    "    return efficiencies\n"
   ]
  },
  {
   "cell_type": "code",
   "execution_count": null,
   "metadata": {},
   "outputs": [],
   "source": [
    "#Define inputs\n",
    "source_isotopes = np.array(['K-40']);\n",
    "source_energies = np.array([1460]);\n",
    "source_activities = np.array([1]);\n",
    "spectrum = 'UCB087_Wild_King_Salmon_3.Spe'\n",
    "background = 'UCB096_Background_2_13_17.Spe' #place-holder\n",
    "branching_ratio = np.array([1]);"
   ]
  },
  {
   "cell_type": "code",
   "execution_count": null,
   "metadata": {},
   "outputs": [],
   "source": [
    "#Call script\n",
    "Efficiency(source_isotopes,source_energies,source_activities,spectrum,background,branching_ratio)"
   ]
  },
  {
   "cell_type": "code",
   "execution_count": null,
   "metadata": {},
   "outputs": [],
   "source": [
    "spec = Spectrum.from_file(spectrum) #import spectrum data\n",
    "bg = Spectrum.from_file(background) #import spectrum data\n",
    "\n",
    "plot_counts = spec.counts_vals\n",
    "plot_energies = spec.energies_kev\n",
    "plt.plot(plot_energies,plot_counts)\n",
    "plt.yscale('log')\n",
    "\n",
    "plot_counts = bg.counts_vals\n",
    "plot_energies = bg.energies_kev\n",
    "plt.plot(plot_energies,plot_counts)\n",
    "plt.yscale('log')\n",
    "\n",
    "bg_sub = spec - bg\n",
    "print(len(bg_sub))"
   ]
  },
  {
   "cell_type": "code",
   "execution_count": null,
   "metadata": {},
   "outputs": [],
   "source": []
  }
 ],
 "metadata": {
  "kernelspec": {
   "display_name": "Python 3",
   "language": "python",
   "name": "python3"
  }
 },
 "nbformat": 4,
 "nbformat_minor": 2
}
