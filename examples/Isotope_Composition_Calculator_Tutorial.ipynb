{
 "cells": [
  {
   "cell_type": "markdown",
   "metadata": {},
   "source": [
    "Isotope_composition_calculator.py Tutorial\n",
    "=====\n",
    "---------------\n",
    "####The purpose of this notebook is to demonstrate how Isotope_composition_calculator.py works including what the required inputs are needed and what it outputs"
   ]
  },
  {
   "cell_type": "markdown",
   "metadata": {},
   "source": [
    "First, import the required documents:"
   ]
  },
  {
   "cell_type": "code",
   "execution_count": null,
   "metadata": {
    "collapsed": false
   },
   "outputs": [
    {
     "name": "stdout",
     "output_type": "stream",
     "text": [
      "SpeFile: Reading file /Users/jackiegasca/Documents/Ca_sources/Na_22_flat_against_detector_531.Spe\n",
      "Unknown line:  $PRESETS:\n",
      "Unknown line:  None\n",
      "Unknown line:  0\n",
      "Unknown line:  0\n",
      "SpeFile: Reading file /Users/jackiegasca/Documents/Ca_sources/Mn_54_flat_against_detector_1264-96-2.Spe\n",
      "Unknown line:  $PRESETS:\n",
      "Unknown line:  None\n",
      "Unknown line:  0\n",
      "Unknown line:  0\n",
      "SpeFile: Reading file /Users/jackiegasca/Documents/Ca_sources/Co_57_flat_against_detector_1264-96-3.Spe\n",
      "Unknown line:  $PRESETS:\n",
      "Unknown line:  None\n",
      "Unknown line:  0\n",
      "Unknown line:  0\n",
      "SpeFile: Reading file /Users/jackiegasca/Documents/Ca_sources/Cd_109_flat_against_detector_1264-96-8.Spe\n",
      "Unknown line:  $PRESETS:\n",
      "Unknown line:  None\n",
      "Unknown line:  0\n",
      "Unknown line:  0\n",
      "SpeFile: Reading file /Users/jackiegasca/Documents/Ca_sources/Th_228_flat_against_detector_1415-83.Spe\n",
      "Unknown line:  $PRESETS:\n",
      "Unknown line:  None\n",
      "Unknown line:  0\n",
      "Unknown line:  0\n",
      "SpeFile: Reading file /Users/jackiegasca/Documents/Ca_sources/Eu_152_flat_against_detector_1316-97-2.Spe\n",
      "Unknown line:  $PRESETS:\n",
      "Unknown line:  None\n",
      "Unknown line:  0\n",
      "Unknown line:  0\n",
      "[Na_22, Mn_54, Co_57, Co_60, Cd_109, Eu_152, Th_228]\n",
      "[88, 121.78, 122.06, 136.47, 244.7, 443.96, 834.85, 867.38, 964.06, 1085.84, 1112.08, 1274.54, 1408.01]"
     ]
    }
   ],
   "source": [
    "import numpy as np\n",
    "from becquerel.tools.isotope import Isotope\n",
    "from becquerel.tools.isotope_qty import IsotopeQuantity, NeutronIrradiation\n",
    "import datetime\n",
    "from becquerel import Spectrum\n",
    "import efficiencies as ef\n",
    "from bs4 import BeautifulSoup\n",
    "import urllib.request\n",
    "import math\n",
    "import NAA_Isotopes as na"
   ]
  },
  {
   "cell_type": "markdown",
   "metadata": {},
   "source": [
    "The python file *efficiencies* is a script in charge of generating the efficiency spectra needed to calculate the efficiency values for the variety of energy peaks used for analysis. The efficiency spectra was created using a variety of sources whose imported spectra can be seen above\n",
    "\n",
    "*NAA_Isotopes* is a script with a class class containing dictionaries of data for every isotope that is observed in neutron activation analysis (of marine life). This is used to identify the isotope that belongs to an observed energy peak"
   ]
  },
  {
   "cell_type": "markdown",
   "metadata": {},
   "source": [
    "#####Load a spectra for observation:\n",
    "(The spectra are uploaded onto the code itself, since an interface has yet to be created)"
   ]
  },
  {
   "cell_type": "code",
   "execution_count": null,
   "metadata": {
    "collapsed": true
   },
   "outputs": [],
   "source": [
    "spec_S1 = Spectrum.from_file('/Users/jackiegasca/Documents/spectras/Sample4_24h_C.Spe')"
   ]
  },
  {
   "cell_type": "markdown",
   "metadata": {},
   "source": [
    "#####Load a background spectra as well"
   ]
  },
  {
   "cell_type": "code",
   "execution_count": null,
   "metadata": {
    "collapsed": true
   },
   "outputs": [],
   "source": [
    "back_spec = Spectrum.from_file('/Users/jackiegasca/Documents/2017.5.1_long_background.Spe')"
   ]
  },
  {
   "cell_type": "markdown",
   "metadata": {},
   "source": [
    "The code then converts bins into energy so that peaks can be identified:"
   ]
  },
  {
   "cell_type": "code",
   "execution_count": null,
   "metadata": {
    "collapsed": true
   },
   "outputs": [],
   "source": [
    "spec_S1_ener_spec = spec_S1.energies_kev[0:len(spec_S1)]\n",
    "back_ener_spec = back_spec.energies_kev[0:len(back_spec)]"
   ]
  },
  {
   "cell_type": "markdown",
   "metadata": {},
   "source": [
    "For now, since the code is still under development, it needs to be given an isotope_list for it to use. This is basically telling the code what to look for in the given spectra. Since I previously identified some of the observed peaks, I provided the list of isotopes for which the peaks belong to:"
   ]
  },
  {
   "cell_type": "code",
   "execution_count": null,
   "metadata": {
    "collapsed": true
   },
   "outputs": [],
   "source": [
    "isotope_list = [na.Na_24, na.Br_82, na.Cs_134, na.K_40, na.Se_75, na.Sr_85,\n",
    "                na.Ca_47, na.Rb_86, na.Zn_65, na.K_42, na.Fe_59, na.Au_198,\n",
    "                na.Co_60, na.As_76, na.Hg_203, na.Cr_51, na.Sb_122, na.Sb_124]"
   ]
  },
  {
   "cell_type": "markdown",
   "metadata": {},
   "source": [
    "For now, the code needs to be given the logistics of the irradiation, such flux and start time. Eventually, the code will be given a file it can parse to get this information. For now, this method must be used"
   ]
  },
  {
   "cell_type": "code",
   "execution_count": null,
   "metadata": {
    "collapsed": true
   },
   "outputs": [],
   "source": [
    "irr_start = '2017-04-27 14:02:00'\n",
    "irr_stop = '2017-04-27 14:12:00'\n",
    "flux = 3.1e11\n",
    "N_0 = 6.02e23"
   ]
  },
  {
   "cell_type": "markdown",
   "metadata": {},
   "source": [
    "*IsotopeActivity()* was created to search for the activity (in counts per second) in the energy peaks it was given from the list of isotopes. This function returns lists containing the isotope names and respective energies, cps, and branching ratios:"
   ]
  },
  {
   "cell_type": "code",
   "execution_count": null,
   "metadata": {
    "collapsed": true
   },
   "outputs": [],
   "source": [
    "def IsotopeActivity():\n",
    "    iso_name = []\n",
    "    iso_energy = []\n",
    "    iso_cps = []\n",
    "    iso_br = []\n",
    "    for iso in isotope_list:\n",
    "\n",
    "        E = iso.energies['energy'][0]\n",
    "        FWHM = ((2.355 * (0.09 * 0.00296 * E) ** 0.5) ** 2\n",
    "                + (1.3) ** 2) ** 0.5 #keV\n",
    "        start = E - 1 * FWHM\n",
    "        end = E + 1 * FWHM\n",
    "        bkgd_start = E - 2 * FWHM\n",
    "        bkgd_end = E + 2 * FWHM\n",
    "\n",
    "        en = (np.abs(spec_S1_ener_spec - E)).argmin()\n",
    "        val1 = (np.abs(spec_S1_ener_spec - start)).argmin()\n",
    "        val2 = (np.abs(spec_S1_ener_spec - end)).argmin()\n",
    "        val3 = (np.abs(spec_S1_ener_spec - bkgd_start)).argmin()\n",
    "        val4 = (np.abs(spec_S1_ener_spec - bkgd_end)).argmin()\n",
    "\n",
    "        cps_values = spec_S1.cps_vals[val1:val2]\n",
    "        max_cps_index = np.argmax(cps_values)\n",
    "        ex_val = max_cps_index - (en - val1)\n",
    "        val1 = val1 + ex_val\n",
    "        val2 = val2 + ex_val\n",
    "        val3 = val3 + ex_val\n",
    "        val4 = val4 + ex_val\n",
    "\n",
    "        peak_vals = spec_S1.cps_vals[val1:val2]\n",
    "        back_vals = back_spec.cps_vals[val1:val2]\n",
    "        peak_vals_sub = [a - b for a, b in zip(peak_vals, back_vals)]\n",
    "\n",
    "        bkgd_vals1 = spec_S1.cps_vals[val3:val1 - 1]\n",
    "        back_bkgd_vals1 = back_spec.cps_vals[val3:val1 - 1]\n",
    "\n",
    "        bkgd_vals2 = spec_S1.cps_vals[val2 + 1:val4]\n",
    "        back_bkgd_vals2 = back_spec.cps_vals[val2+1:val4]\n",
    "\n",
    "        back_sub1 = [a - b for a, b in zip(bkgd_vals1, back_bkgd_vals1)]\n",
    "        back_sub2 = [a - b for a, b in zip(bkgd_vals2, back_bkgd_vals2)]\n",
    "\n",
    "        bkgd_cps = (sum(back_sub1) + sum(back_sub2)) / (len(back_sub1)\n",
    "                    + len(back_sub2))\n",
    "        peak_vals[:] = [x - bkgd_cps for x in peak_vals_sub]\n",
    "        peak_cps = sum(peak_vals)\n",
    "\n",
    "        name = '{0}_{1}'.format(iso.Symbol, iso.A + 1)\n",
    "        iso_name.append(name)\n",
    "        iso_energy.append(E)\n",
    "        iso_cps.append(peak_cps)\n",
    "        iso_br.append(iso.energies['branching_ratio'][0])\n",
    "    #return(iso_name, iso_energy, iso_cps, iso_br)\n",
    "    isotope_activities = []\n",
    "    for j in range(len(iso_name)):\n",
    "        ef_en = (np.abs(ef.x - iso_energy[j])).argmin()\n",
    "        activ = iso_cps[j] / (ef.fit[ef_en] * iso_br[j])\n",
    "        isotope_activities.append(activ)\n",
    "    return(iso_name, iso_energy, iso_cps, iso_br, isotope_activities)\n",
    "    for n in range(len(isotope_activities)):\n",
    "        #statement = 'The activity of ' + '{0}'.format(iso_name[n]) + ' at ' + '{0}'.format(spec_S1.start_time) + ' is ' + '{0}'.format(iso_cps[n])\n",
    "        statement = 'The activity of {0} at {1} is {2} bq'.format(iso_name[n], spec_S1.start_time, iso_cps[n])\n",
    "        print(statement)\n"
   ]
  },
  {
   "cell_type": "markdown",
   "metadata": {},
   "source": [
    "The function then needs to be called to generate the data needed to proceed with the concentrtion calculations. The values are assigned to their corresponding list as follows:"
   ]
  },
  {
   "cell_type": "code",
   "execution_count": null,
   "metadata": {
    "collapsed": true
   },
   "outputs": [],
   "source": [
    "lists = IsotopeActivity()\n",
    "iso_cps = lists[2]\n",
    "iso_name = lists[0]\n",
    "iso_energy = lists[1]\n",
    "iso_br = lists[3]\n",
    "isotope_activities = lists[4]\n"
   ]
  },
  {
   "cell_type": "markdown",
   "metadata": {},
   "source": [
    "The function *Remover()* was created to remove any negative activities, since this implies the isotope isn't really there. It is then executed a couple of times to assure all the negative activities have been removed"
   ]
  },
  {
   "cell_type": "code",
   "execution_count": null,
   "metadata": {
    "collapsed": true
   },
   "outputs": [],
   "source": [
    "def Remover():\n",
    "    for i in iso_cps:\n",
    "        if i <= 0:\n",
    "            n = iso_cps.index(i)\n",
    "            iso_name.remove(iso_name[n])\n",
    "            iso_energy.remove(iso_energy[n])\n",
    "            iso_br.remove(iso_br[n])\n",
    "            isotope_activities.remove(isotope_activities[n])\n",
    "            iso_cps.remove(iso_cps[n])\n",
    "        else:\n",
    "            pass\n",
    "    return(iso_name, iso_cps, iso_energy, iso_br, isotope_activities)\n",
    "\n",
    "lists = Remover()\n",
    "lists = Remover()\n",
    "lists = Remover()\n"
   ]
  },
  {
   "cell_type": "markdown",
   "metadata": {},
   "source": [
    "The function *Concentration()* calcualtes the composition of the isotope in the iso_name list using it's activity and branching ratio at the energy peak. The first part of the function converts the isotopes name into a format that is compatible with the becquerel code. The function *urlcreator(abb, A_0)* takes the name of the element and the preirradiated nuclide number to search through the jaea library to find the cross section of the preirradiated isotope. It returns a link with the cross section information. After the link is accessed by the webscraper, *tabledata(bslink)* is a function that accesses the link and converts the data from the web into a table that can be parsed. It looks for the thermal neutron cross section and returns that number. The if statement towards the bottom converts the 'k', 'm' and '&' values into their respective scientific notation. The function returns the approproate cross section. \n",
    "\n",
    "When the cross section is returned, *Concentration()* uses the tools from becquerel to calculate the concentration, which is returned at the end of the function. "
   ]
  },
  {
   "cell_type": "code",
   "execution_count": null,
   "metadata": {
    "collapsed": true
   },
   "outputs": [],
   "source": [
    "def Concentration():\n",
    "    conc = []\n",
    "    for i in range(len(iso_name)):\n",
    "        c = iso_name[i].split('_')\n",
    "        abb = c[0]\n",
    "        A = int(c[1])\n",
    "        A_0 = A - 1\n",
    "        iso_2 = '{0}-{1}'.format(abb, A_0)\n",
    "        iso_1 = '{0}-{1}'.format(abb, A)\n",
    "        nuclide = Isotope(iso_1)\n",
    "        def urlcreator(abb, A_0):\n",
    "            A_num = str(A_0)\n",
    "            if len(A_num) == 1:\n",
    "                A_num = '00' + A_num\n",
    "            elif len(A_num) == 2:\n",
    "                A_num = '0' + A_num\n",
    "            else:\n",
    "                A_num = A_num\n",
    "            url = 'http://wwwndc.jaea.go.jp/cgi-bin/Tab80WWW.cgi?/data' \\\n",
    "                    + '/JENDL/JENDL-4-prc/intern/' + abb + A_num + '.intern'\n",
    "            html = urllib.request.urlopen(url)\n",
    "            bslink = BeautifulSoup(html, 'lxml')\n",
    "\n",
    "            return(bslink)\n",
    "\n",
    "        bslink = urlcreator(abb, A_0)\n",
    "        def tabledata(bslink):\n",
    "            '''extracts data from the jaea website'''\n",
    "\n",
    "            table = bslink.table\n",
    "            table_rows = table.find_all('tr')\n",
    "            for tr in table_rows:\n",
    "                td = tr.find_all('td')\n",
    "                row = [i.text for i in td]\n",
    "\n",
    "                if len(row) == 7:\n",
    "                    if row[0] == 'total       ':\n",
    "                        x_sec = row[1]\n",
    "                        x_sec_s = x_sec.split(' ')\n",
    "                        x_val = float(x_sec_s[0])\n",
    "                        barn = x_sec_s[1]\n",
    "                        if barn[1] == 'k':\n",
    "                            x_val = 10**(3) * x_val\n",
    "                            return(x_val)\n",
    "                        elif barn[1] == 'm':\n",
    "                            x_val = 10**(-3) * x_val\n",
    "                            return(x_val)\n",
    "\n",
    "                        elif barn[1] == '&':\n",
    "                            x_val = 10**(-6) * x_val\n",
    "                            return(x_val)\n",
    "                        else:\n",
    "                            x_val = x_val\n",
    "                            return(x_val)\n",
    "\n",
    "                    else:\n",
    "                        pass\n",
    "\n",
    "                else:\n",
    "                    pass\n",
    "            return(x_val)\n",
    "\n",
    "        x_val = tabledata(bslink)\n",
    "        #print(x_val)\n",
    "\n",
    "        quantity = IsotopeQuantity(nuclide, date=spec_S1.start_time, bq=isotope_activities[i])\n",
    "        irrad_quan = quantity.bq_at(irr_stop)\n",
    "        irrad_act = IsotopeQuantity(nuclide, date=irr_stop, bq=irrad_quan)\n",
    "        ni = NeutronIrradiation(irr_start, irr_stop, n_cm2_s=flux)\n",
    "        init_comp = ni.activate(x_val, initial=Isotope(iso_2), activated=irrad_act)\n",
    "        init_comp.is_stable = True\n",
    "        print(init_comp)\n",
    "        "
   ]
  },
  {
   "cell_type": "markdown",
   "metadata": {},
   "source": [
    "Finally, the function is called to generate the results, which are then printed"
   ]
  },
  {
   "cell_type": "code",
   "execution_count": null,
   "metadata": {
    "collapsed": true
   },
   "outputs": [],
   "source": [
    "u = Concentration()\n",
    "print(u)"
   ]
  },
  {
   "cell_type": "markdown",
   "metadata": {},
   "source": [
    "To run the code, simply write down *Isotope_composition_calculator.py* into terminal. Eventually, the code will be modified so it is more interactice, this way, the spectra can be inputed from terminal without having to modify the actual code. \n",
    "\n",
    "A problem with the code is that it doesn't recognize background isotopes and assumes all the peacks belong to neutron activation results."
   ]
  },
  {
   "cell_type": "code",
   "execution_count": null,
   "metadata": {
    "collapsed": true
   },
   "outputs": [],
   "source": []
  }
 ],
 "metadata": {
  "kernelspec": {
   "display_name": "Python 3",
   "language": "python",
   "name": "python3"
  },
  "language_info": {
   "codemirror_mode": {
    "name": "ipython",
    "version": 3
   },
   "file_extension": ".py",
   "mimetype": "text/x-python",
   "name": "python",
   "nbconvert_exporter": "python",
   "pygments_lexer": "ipython3",
   "version": "3.4.5"
  }
 },
 "nbformat": 4,
 "nbformat_minor": 0
}
