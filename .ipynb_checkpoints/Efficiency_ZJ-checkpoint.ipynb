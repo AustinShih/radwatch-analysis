{
 "cells": [
  {
   "cell_type": "code",
   "execution_count": null,
   "metadata": {
    "collapsed": false
   },
   "outputs": [],
   "source": [
    "from becquerel import Spectrum\n",
    "from becquerel.tools import Isotope, IsotopeQuantity\n",
    "import numpy as np\n",
    "import matplotlib.pyplot as plt\n",
    "%matplotlib inline"
   ]
  },
  {
   "cell_type": "code",
   "execution_count": null,
   "metadata": {
    "collapsed": false
   },
   "outputs": [],
   "source": [
    "spec = Spectrum.from_file('examples/UCB087_Wild_King_Salmon_3.Spe')"
   ]
  },
  {
   "cell_type": "code",
   "execution_count": null,
   "metadata": {
    "collapsed": false
   },
   "outputs": [],
   "source": [
    "window = np.array([[-2, -1], [-0.5, 0.5], [1, 2]] )\n",
    "window[0,1]"
   ]
  },
  {
   "cell_type": "code",
   "execution_count": null,
   "metadata": {
    "collapsed": false
   },
   "outputs": [],
   "source": [
    "spec.plot()"
   ]
  },
  {
   "cell_type": "code",
   "execution_count": null,
   "metadata": {
    "collapsed": false
   },
   "outputs": [],
   "source": [
    "# Specific info for calculating efficiency: Co_60 as an example\n",
    "# isotope = 'co60'\n",
    "# date = '2008-01-15'\n",
    "# uci = 9.38\n",
    "# live_time = spec.livetime\n",
    "# current_activity = IsotopeQuantity(isotope, date, uci).bq_now()"
   ]
  },
  {
   "cell_type": "code",
   "execution_count": null,
   "metadata": {
    "collapsed": false
   },
   "outputs": [],
   "source": [
    "# Calculate net counts from deltaE estimation: sum of two deltaE counts\n",
    "# Specific deltaE range defined by user or default: K-40, Cs-137, etc\n",
    "# Use deltaE on both side to interpolate background on the middle region\n",
    "# Subtraction for actual peak counts \n",
    "# Efficiency calculation\n",
    "delta_E = 5 #keV\n",
    "target_peak = 662 #keV\n",
    "idx = (spec.energies_kev > target_peak-2.0*delta_E)*(spec.energies_kev < target_peak-1.0*delta_E)\n",
    "prev_bins = np.where(idx)\n",
    "idx = (spec.energies_kev > target_peak-0.5*delta_E)*(spec.energies_kev < target_peak+0.5*delta_E)\n",
    "curr_bins = np.where(idx)\n",
    "idx = (spec.energies_kev > target_peak+1.0*delta_E)*(spec.energies_kev < target_peak+2.0*delta_E)\n",
    "post_bins = np.where(idx)\n",
    "prev_bins[0][0]\n",
    "counts_1 = np.sum(spec.counts_vals[prev_bins[0][0]:prev_bins[0][-1]])\n",
    "counts_2 = np.sum(spec.counts_vals[post_bins[0][0]:post_bins[0][-1]])\n",
    "counts_target = np.sum(spec.counts_vals[curr_bins[0][0]:curr_bins[0][-1]])\n",
    "background = (counts_1 + counts_2)/2\n",
    "net_counts = counts_target - background\n",
    "#eff = (net_counts/live_time)/(current_activity)"
   ]
  },
  {
   "cell_type": "code",
   "execution_count": null,
   "metadata": {
    "collapsed": false
   },
   "outputs": [],
   "source": [
    "len(prev_bins[0])"
   ]
  },
  {
   "cell_type": "code",
   "execution_count": null,
   "metadata": {
    "collapsed": false
   },
   "outputs": [],
   "source": [
    "len(curr_bins[0])"
   ]
  },
  {
   "cell_type": "code",
   "execution_count": null,
   "metadata": {
    "collapsed": false
   },
   "outputs": [],
   "source": [
    "len(post_bins[0])"
   ]
  },
  {
   "cell_type": "code",
   "execution_count": null,
   "metadata": {
    "collapsed": false
   },
   "outputs": [],
   "source": [
    "counts_target"
   ]
  },
  {
   "cell_type": "code",
   "execution_count": null,
   "metadata": {
    "collapsed": false
   },
   "outputs": [],
   "source": [
    "net_counts"
   ]
  },
  {
   "cell_type": "code",
   "execution_count": null,
   "metadata": {
    "collapsed": false
   },
   "outputs": [],
   "source": [
    "bg = Spectrum.from_file('examples/UCB096_Backgorund_2_13_17.Spe')"
   ]
  },
  {
   "cell_type": "code",
   "execution_count": null,
   "metadata": {
    "collapsed": false
   },
   "outputs": [],
   "source": [
    "bgsub = spec - bg\n",
    "delta_E = 5 #keV\n",
    "target_peak = 662 #keV\n",
    "idx = (bgsub.energies_kev > target_peak-2.0*delta_E)*(bgsub.energies_kev < target_peak-1.0*delta_E)\n",
    "prev_bins = np.where(idx)\n",
    "idx = (bgsub.energies_kev > target_peak-0.5*delta_E)*(bgsub.energies_kev < target_peak+0.5*delta_E)\n",
    "curr_bins = np.where(idx)\n",
    "idx = (bgsub.energies_kev > target_peak+1.0*delta_E)*(bgsub.energies_kev < target_peak+2.0*delta_E)\n",
    "post_bins = np.where(idx)\n",
    "prev_bins[0][0]\n",
    "counts_1 = np.sum(bgsub.cps_vals[prev_bins[0][0]:prev_bins[0][-1]]) * spec.livetime\n",
    "counts_2 = np.sum(bgsub.cps_vals[post_bins[0][0]:post_bins[0][-1]]) * spec.livetime\n",
    "counts_target = np.sum(bgsub.cps_vals[curr_bins[0][0]:curr_bins[0][-1]]) * spec.livetime\n",
    "background = (counts_1 + counts_2)/2\n",
    "net_counts = counts_target - background"
   ]
  },
  {
   "cell_type": "code",
   "execution_count": null,
   "metadata": {
    "collapsed": false
   },
   "outputs": [],
   "source": [
    "net_counts"
   ]
  },
  {
   "cell_type": "code",
   "execution_count": 1,
   "metadata": {
    "collapsed": false
   },
   "outputs": [],
   "source": [
    "import ROI\n",
    "from becquerel import Spectrum\n",
    "from becquerel.tools import Isotope, IsotopeQuantity\n",
    "import numpy as np\n",
    "import matplotlib.pyplot as plt"
   ]
  },
  {
   "cell_type": "code",
   "execution_count": 2,
   "metadata": {
    "collapsed": false
   },
   "outputs": [
    {
     "name": "stdout",
     "output_type": "stream",
     "text": [
      "SpeFile: Reading file examples/UCB087_Wild_King_Salmon_3.Spe\n"
     ]
    },
    {
     "name": "stderr",
     "output_type": "stream",
     "text": [
      "C:\\Users\\joann\\AppData\\Roaming\\Python\\Python35\\site-packages\\becquerel-0.1.0-py3.5.egg\\becquerel\\parsers\\spe_file.py:148: SpectrumFileParsingWarning: SpeFile has $PRESETS field, skipping 3 lines\n",
      "  SpectrumFileParsingWarning)\n"
     ]
    },
    {
     "name": "stdout",
     "output_type": "stream",
     "text": [
      "SpeFile: Reading file examples/UCB096_Backgorund_2_13_17.Spe\n"
     ]
    }
   ],
   "source": [
    "spec = Spectrum.from_file('examples/UCB087_Wild_King_Salmon_3.Spe')\n",
    "bg = Spectrum.from_file('examples/UCB096_Backgorund_2_13_17.Spe')\n",
    "e_peak = 662\n",
    "roi = ROI.ROI(spec, bg, 662)"
   ]
  },
  {
   "cell_type": "code",
   "execution_count": 3,
   "metadata": {
    "collapsed": false
   },
   "outputs": [
    {
     "name": "stderr",
     "output_type": "stream",
     "text": [
      "C:\\Users\\joann\\AppData\\Roaming\\Python\\Python35\\site-packages\\becquerel-0.1.0-py3.5.egg\\becquerel\\core\\spectrum.py:533: SpectrumWarning: Subtraction of counts-based specta, spectra have been converted to CPS\n",
      "  'have been converted to CPS', SpectrumWarning)\n"
     ]
    },
    {
     "data": {
      "text/plain": [
       "2435.0"
      ]
     },
     "execution_count": 3,
     "metadata": {},
     "output_type": "execute_result"
    }
   ],
   "source": [
    "roi.get_counts()"
   ]
  },
  {
   "cell_type": "code",
   "execution_count": 4,
   "metadata": {
    "collapsed": true
   },
   "outputs": [],
   "source": [
    "roi.set_sideband (10, [[-3, -1], [-1, 1], [1, 3]])"
   ]
  },
  {
   "cell_type": "code",
   "execution_count": null,
   "metadata": {
    "collapsed": true
   },
   "outputs": [],
   "source": [
    "roi.get_counts()"
   ]
  }
 ],
 "metadata": {
  "kernelspec": {
   "display_name": "Python 3",
   "language": "python",
   "name": "python3"
  },
  "language_info": {
   "codemirror_mode": {
    "name": "ipython",
    "version": 3
   },
   "file_extension": ".py",
   "mimetype": "text/x-python",
   "name": "python",
   "nbconvert_exporter": "python",
   "pygments_lexer": "ipython3",
   "version": "3.5.4"
  }
 },
 "nbformat": 4,
 "nbformat_minor": 2
}
